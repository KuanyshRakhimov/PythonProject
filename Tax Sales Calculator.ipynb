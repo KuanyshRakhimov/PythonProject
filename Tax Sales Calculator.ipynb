{
 "cells": [
  {
   "cell_type": "code",
   "execution_count": 1,
   "metadata": {},
   "outputs": [
    {
     "ename": "SystemExit",
     "evalue": "0",
     "output_type": "error",
     "traceback": [
      "An exception has occurred, use %tb to see the full traceback.\n",
      "\u001b[1;31mSystemExit\u001b[0m\u001b[1;31m:\u001b[0m 0\n"
     ]
    },
    {
     "name": "stderr",
     "output_type": "stream",
     "text": [
      "C:\\ProgramData\\Anaconda3\\lib\\site-packages\\IPython\\core\\interactiveshell.py:3334: UserWarning: To exit: use 'exit', 'quit', or Ctrl-D.\n",
      "  warn(\"To exit: use 'exit', 'quit', or Ctrl-D.\", stacklevel=1)\n"
     ]
    }
   ],
   "source": [
    "import sys #1) Here I add all the libraries that i need to perform this project\n",
    "from decimal import Decimal\n",
    "from PyQt5 import QtCore, QtGui, QtWidgets, uic\n",
    "import numpy as np\n",
    "import pandas as pd\n",
    "from PyQt5 import QtCore, QtGui, QtWidgets#from existing libraries I import classes to perform creating of window etc. \n",
    "\n",
    "\n",
    "qtCreatorFile = \"C:\\\\Users\\\\krahi\\\\OneDrive\\\\Рабочий стол\\\\project\\\\mainwindow.ui\" #2) Here I wrote path for qtCreatorFile\n",
    "Ui_MainWindow, QtBaseClass = uic.loadUiType(qtCreatorFile)                          #created in PyQt5 designer and also added\n",
    "path = r\"C:\\Users\\krahi\\pokemon_data.csv\"                                            #path to my csv file with some data about\n",
    "                                                                                     #pokemons\n",
    "\n",
    "\n",
    "\n",
    "\n",
    "\n",
    "class MyWindow(QtWidgets.QMainWindow, Ui_MainWindow): #3) I define my MyWindow class with init function to make this window run\n",
    "    def __init__(self):                 #After defining the init fuction, I added button logic to read and calculate buttons\n",
    "        QtWidgets.QMainWindow.__init__(self)\n",
    "        Ui_MainWindow.__init__(self)\n",
    "        self.setupUi(self)\n",
    "        self.calc_tax_button.clicked.connect(self.calculate_tax)\n",
    "        self.csv_read_button.clicked.connect(self.read_csv)\n",
    "\n",
    "    \n",
    "    \n",
    "    def calculate_tax(self): #4) In this fucntion I added logic and operations to the button, i wrote simple formula to calculate\n",
    "        price = Decimal(self.price_box.text())#the tax rate and then display it on the label in the program\n",
    "        tax = Decimal(self.tax_rate.value())\n",
    "        total_price = price  + ((tax / 100) * price)\n",
    "        total_price_string = \"The total price with tax is: {:.2f}\".format(total_price)\n",
    "        self.results_output.setText(total_price_string)\n",
    "\n",
    "    def read_csv(self): #5)Next fuction is almost the same but it reads data from the csv file from the specified column. In this\n",
    "        df = pd.read_csv(r\"C:\\Users\\krahi\\pokemon_data.csv\")#case column called \"Price\", so it's simply calculates the sum\n",
    "        sumas = df[\"Price\"]                                 #of 1 column using for loop. After it shows text on the label with \n",
    "        sum = 0                                             #the sum, after you can easily calculate the tax of obtained Sum\n",
    "        for price in sumas:\n",
    "            sum += price\n",
    "        result_string = \"The csv file has been read, the sum of prices of all the pokemons are: {:.2f}\" . format(sum)\n",
    "        self.csv_output.setText(result_string)\n",
    "\n",
    "\n",
    "\n",
    "if __name__ == \"__main__\": #6) This block is responsible for closing the application\n",
    "    app = QtWidgets.QApplication(sys.argv)\n",
    "    window = MyWindow()\n",
    "    window.show()\n",
    "    sys.exit(app.exec_())"
   ]
  },
  {
   "cell_type": "code",
   "execution_count": null,
   "metadata": {},
   "outputs": [],
   "source": []
  },
  {
   "cell_type": "code",
   "execution_count": null,
   "metadata": {},
   "outputs": [],
   "source": []
  }
 ],
 "metadata": {
  "kernelspec": {
   "display_name": "Python 3",
   "language": "python",
   "name": "python3"
  },
  "language_info": {
   "codemirror_mode": {
    "name": "ipython",
    "version": 3
   },
   "file_extension": ".py",
   "mimetype": "text/x-python",
   "name": "python",
   "nbconvert_exporter": "python",
   "pygments_lexer": "ipython3",
   "version": "3.7.4"
  }
 },
 "nbformat": 4,
 "nbformat_minor": 2
}
