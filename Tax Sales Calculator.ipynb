{
 "cells": [
  {
   "cell_type": "code",
   "execution_count": 1,
   "metadata": {
    "scrolled": true
   },
   "outputs": [
    {
     "ename": "SystemExit",
     "evalue": "0",
     "output_type": "error",
     "traceback": [
      "An exception has occurred, use %tb to see the full traceback.\n",
      "\u001b[1;31mSystemExit\u001b[0m\u001b[1;31m:\u001b[0m 0\n"
     ]
    },
    {
     "name": "stderr",
     "output_type": "stream",
     "text": [
      "C:\\ProgramData\\Anaconda3\\lib\\site-packages\\IPython\\core\\interactiveshell.py:3334: UserWarning: To exit: use 'exit', 'quit', or Ctrl-D.\n",
      "  warn(\"To exit: use 'exit', 'quit', or Ctrl-D.\", stacklevel=1)\n"
     ]
    }
   ],
   "source": [
    "import sys #firstly I import system, to make run this program\n",
    "from decimal import Decimal\n",
    "from PyQt5 import QtCore, QtGui, QtWidgets, uic\n",
    "import numpy as np\n",
    "import pandas as pd\n",
    "import matplotlib.pyplot as plt\n",
    "from PyQt5 import QtCore, QtGui, QtWidgets\n",
    "from PyQt5.QtWidgets import QApplication, QWidget, QInputDialog, QLineEdit, QFileDialog\n",
    "\n",
    "qtCreatorFile = \"C:\\\\Users\\\\krahi\\\\OneDrive\\\\Рабочий стол\\\\project\\\\mainwindow.ui\" \n",
    "Ui_MainWindow, QtBaseClass = uic.loadUiType(qtCreatorFile)\n",
    "path = r\"C:\\Users\\krahi\\pokemon_data.csv\"\n",
    "\n",
    "\n",
    "\n",
    "\n",
    "\n",
    "class MyWindow(QtWidgets.QMainWindow, Ui_MainWindow):\n",
    "    def __init__(self):\n",
    "        QtWidgets.QMainWindow.__init__(self)\n",
    "        Ui_MainWindow.__init__(self)\n",
    "        self.setupUi(self)\n",
    "        self.calc_tax_button.clicked.connect(self.calculate_tax)\n",
    "        self.csv_read_button.clicked.connect(self.read_csv)\n",
    " \n",
    "\n",
    "    \n",
    "    \n",
    "    def calculate_tax(self):\n",
    "        price = Decimal(self.price_box.text())\n",
    "        tax = Decimal(self.tax_rate.value())\n",
    "        total_price = price  + ((tax / 100) * price)\n",
    "        total_price_string = \"The total price with tax is: {:.2f}\".format(total_price)\n",
    "        self.results_output.setText(total_price_string)\n",
    "\n",
    "    def read_csv(self): \n",
    "        df = pd.read_csv(r\"C:\\Users\\krahi\\pokemon_data.csv\")\n",
    "        sumas = df[\"Price\"]\n",
    "        suma = 0\n",
    "        for price in sumas:\n",
    "            suma += price\n",
    "        result_string = \"The csv file has been read, the sum of prices of all the pokemons are: {:.2f}\" . format(suma)\n",
    "        self.csv_output.setText(result_string)\n",
    "        \n",
    "    \n",
    "\n",
    "\n",
    "\n",
    "\n",
    "if __name__ == \"__main__\":\n",
    "    app = QtWidgets.QApplication(sys.argv)\n",
    "    window = MyWindow()\n",
    "    window.show()\n",
    "    sys.exit(app.exec_())"
   ]
  },
  {
   "cell_type": "code",
   "execution_count": 2,
   "metadata": {
    "scrolled": true
   },
   "outputs": [
    {
     "data": {
      "text/plain": [
       "<matplotlib.collections.PathCollection at 0x17d8f929088>"
      ]
     },
     "execution_count": 2,
     "metadata": {},
     "output_type": "execute_result"
    },
    {
     "data": {
      "image/png": "[encoded data removed]",
      "text/plain": [
       "<Figure size 432x288 with 1 Axes>"
      ]
     },
     "metadata": {
      "needs_background": "light"
     },
     "output_type": "display_data"
    }
   ],
   "source": [
    "df = pd.read_csv(r\"C:\\Users\\krahi\\pokemon_data.csv\", delimiter=',', nrows = 20, skiprows=[1])\n",
    "y=df['Attack'];\n",
    "x=df['Defense']\n",
    "plt.xlabel('Defense'); plt.ylabel('Attack')\n",
    "plt.scatter(x,y)"
   ]
  },
  {
   "cell_type": "code",
   "execution_count": null,
   "metadata": {},
   "outputs": [],
   "source": []
  }
 ],
 "metadata": {
  "kernelspec": {
   "display_name": "Python 3",
   "language": "python",
   "name": "python3"
  },
  "language_info": {
   "codemirror_mode": {
    "name": "ipython",
    "version": 3
   },
   "file_extension": ".py",
   "mimetype": "text/x-python",
   "name": "python",
   "nbconvert_exporter": "python",
   "pygments_lexer": "ipython3",
   "version": "3.7.4"
  }
 },
 "nbformat": 4,
 "nbformat_minor": 2
}
